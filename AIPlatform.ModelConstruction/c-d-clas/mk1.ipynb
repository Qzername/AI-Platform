{
  "cells": [
    {
      "cell_type": "code",
      "execution_count": null,
      "metadata": {
        "colab": {
          "base_uri": "https://localhost:8080/"
        },
        "id": "vKkppi84PYqB",
        "outputId": "f67bdffe-353d-473e-f50d-7128066422f0"
      },
      "outputs": [],
      "source": [
        "%pip install transformers\n",
        "%pip install datasets\n",
        "%pip install PIL\n",
        "%pip install numpy"
      ]
    },
    {
      "cell_type": "code",
      "execution_count": null,
      "metadata": {
        "colab": {
          "base_uri": "https://localhost:8080/",
          "height": 49,
          "referenced_widgets": [
            "77384efe58ad439d9d7ff0036524e632",
            "079e41c73e04463fb737e521b496a877",
            "2816305935134548852638ebd8a1b38d",
            "27ef04a19b0a4f829c3353e52b833ca7",
            "ae6202d42f5a47269372a7aea38b599c",
            "520f16e99a7d43e7a70bff80edd11e0d",
            "15427ee42e4a47ebab41c62ecd896d19",
            "f432bfc6325b45968153b25634d86227",
            "9e9501847d6f447790a93306b80ce24a",
            "af3faec16cad4f74abe5cbbda89c18a1",
            "b832b4f17ec9449597d7ef2839948644"
          ]
        },
        "id": "MYCVi9Y-RSki",
        "outputId": "4f63f210-ed0a-4632-fd16-82444b7f70b9"
      },
      "outputs": [],
      "source": [
        "import tensorflow as tf\n",
        "from datasets import load_dataset\n",
        "\n",
        "DATASET_SIZE = 23298\n",
        "dataset = load_dataset(\"microsoft/cats_vs_dogs\")\n",
        "\n",
        "def to_rgb(example):\n",
        "  if example[\"image\"].mode != \"RGB\":\n",
        "    example[\"image\"] = example[\"image\"].convert(\"RGB\")\n",
        "  return example\n",
        "\n",
        "dataset = load_dataset(\"microsoft/cats_vs_dogs\")\n",
        "dataset = dataset.map(to_rgb)  # now every image is RGB\n",
        "\n",
        "tf_dataset = dataset[\"train\"].to_tf_dataset(\n",
        "  shuffle=True,\n",
        "  batch_size=None\n",
        ")\n",
        "\n",
        "def dict_to_tuple(data):\n",
        "    return tf.cast(data['image'], tf.float32) / 255.0, tf.cast(data['labels'], tf.float32)\n",
        "\n",
        "def resize(image, label):\n",
        "    image = tf.image.resize(image, [160, 90])\n",
        "    return image, label\n",
        "\n",
        "tf_dataset = tf_dataset.map(dict_to_tuple).map(resize)"
      ]
    },
    {
      "cell_type": "code",
      "execution_count": null,
      "metadata": {
        "id": "KZ3bLi_jNO4I"
      },
      "outputs": [],
      "source": [
        "val_size = 1000\n",
        "test_size = 500\n",
        "train_size = DATASET_SIZE - val_size - test_size\n",
        "\n",
        "train_db = tf_dataset.take(train_size)\n",
        "valid_db = tf_dataset.skip(train_size).take(val_size)\n",
        "test_db = tf_dataset.skip(train_size + val_size).take(test_size)\n",
        "\n",
        "batch_size = 64\n",
        "train_db = train_db.batch(batch_size).prefetch(tf.data.AUTOTUNE)\n",
        "test_db = test_db.batch(batch_size).prefetch(tf.data.AUTOTUNE)\n",
        "valid_db = valid_db.batch(batch_size).prefetch(tf.data.AUTOTUNE)"
      ]
    },
    {
      "cell_type": "code",
      "execution_count": null,
      "metadata": {
        "colab": {
          "base_uri": "https://localhost:8080/"
        },
        "id": "mDCcnorhZzxz",
        "outputId": "b8b65366-8ec1-4e50-d59b-fc0156be074c"
      },
      "outputs": [],
      "source": [
        "from functools import partial\n",
        "\n",
        "tf.random.set_seed(42)\n",
        "DefaultConv2D = partial(tf.keras.layers.Conv2D, kernel_size=3, padding=\"same\",\n",
        "                        activation=\"relu\", kernel_initializer=\"he_normal\")\n",
        "\n",
        "model = tf.keras.Sequential([\n",
        "    DefaultConv2D(filters=64, kernel_size=7, input_shape=[160, 90, 3]),\n",
        "    tf.keras.layers.MaxPool2D(),\n",
        "    DefaultConv2D(filters=128),\n",
        "    tf.keras.layers.MaxPool2D(),\n",
        "    tf.keras.layers.Flatten(),\n",
        "    tf.keras.layers.Dense(units=64, activation=\"relu\",\n",
        "                          kernel_initializer=\"he_normal\"),\n",
        "    tf.keras.layers.Dense(units=1, activation=\"sigmoid\")\n",
        "])"
      ]
    },
    {
      "cell_type": "code",
      "execution_count": null,
      "metadata": {
        "colab": {
          "background_save": true,
          "base_uri": "https://localhost:8080/"
        },
        "id": "i6n4nknSc6Gm",
        "outputId": "6188d68b-87a6-48a4-cba3-45513599fb65"
      },
      "outputs": [],
      "source": [
        "model.compile(loss=\"binary_crossentropy\", optimizer=\"nadam\", metrics=[\"accuracy\"])\n",
        "model.fit(train_db, validation_data=valid_db, epochs=10)"
      ]
    },
    {
      "cell_type": "code",
      "execution_count": null,
      "metadata": {
        "id": "BrrC1H0Ado5d"
      },
      "outputs": [],
      "source": [
        "model.evaluate(test_db)"
      ]
    },
    {
      "cell_type": "code",
      "execution_count": null,
      "metadata": {
        "colab": {
          "base_uri": "https://localhost:8080/",
          "height": 446
        },
        "id": "-X4VIEx_LeWc",
        "outputId": "b7397d1e-9601-48cd-af93-b984b0881a46"
      },
      "outputs": [],
      "source": [
        "import tensorflow as tf\n",
        "\n",
        "new_model = tf.keras.models.load_model('c-d-clas.mk1.keras')\n",
        "\n",
        "# Check its architecture\n",
        "new_model.summary()"
      ]
    },
    {
      "cell_type": "code",
      "execution_count": null,
      "metadata": {
        "colab": {
          "base_uri": "https://localhost:8080/"
        },
        "id": "sXznJOMUNNbV",
        "outputId": "07fe8426-91ac-4d6f-da6d-17bab6034845"
      },
      "outputs": [],
      "source": [
        "from PIL import Image\n",
        "import numpy as np\n",
        "im = Image.open('3.webp')\n",
        "\n",
        "im = im.resize((160,90)).convert(\"RGB\")\n",
        "\n",
        "img_array = np.array(im) / 255.0           # normalize if model trained on [0,1]\n",
        "img_array = np.expand_dims(img_array, axis=0)  # add batch dimension\n",
        "\n",
        "# --- Run prediction ---\n",
        "pred = new_model.predict(img_array)\n",
        "\n",
        "print(\"Raw prediction:\", pred)"
      ]
    }
  ],
  "metadata": {
    "accelerator": "GPU",
    "colab": {
      "gpuType": "T4",
      "provenance": []
    },
    "kernelspec": {
      "display_name": "Python 3",
      "name": "python3"
    },
    "language_info": {
      "name": "python"
    },
    "widgets": {
      "application/vnd.jupyter.widget-state+json": {
        "079e41c73e04463fb737e521b496a877": {
          "model_module": "@jupyter-widgets/controls",
          "model_module_version": "1.5.0",
          "model_name": "HTMLModel",
          "state": {
            "_dom_classes": [],
            "_model_module": "@jupyter-widgets/controls",
            "_model_module_version": "1.5.0",
            "_model_name": "HTMLModel",
            "_view_count": null,
            "_view_module": "@jupyter-widgets/controls",
            "_view_module_version": "1.5.0",
            "_view_name": "HTMLView",
            "description": "",
            "description_tooltip": null,
            "layout": "IPY_MODEL_520f16e99a7d43e7a70bff80edd11e0d",
            "placeholder": "​",
            "style": "IPY_MODEL_15427ee42e4a47ebab41c62ecd896d19",
            "value": "Map: 100%"
          }
        },
        "15427ee42e4a47ebab41c62ecd896d19": {
          "model_module": "@jupyter-widgets/controls",
          "model_module_version": "1.5.0",
          "model_name": "DescriptionStyleModel",
          "state": {
            "_model_module": "@jupyter-widgets/controls",
            "_model_module_version": "1.5.0",
            "_model_name": "DescriptionStyleModel",
            "_view_count": null,
            "_view_module": "@jupyter-widgets/base",
            "_view_module_version": "1.2.0",
            "_view_name": "StyleView",
            "description_width": ""
          }
        },
        "27ef04a19b0a4f829c3353e52b833ca7": {
          "model_module": "@jupyter-widgets/controls",
          "model_module_version": "1.5.0",
          "model_name": "HTMLModel",
          "state": {
            "_dom_classes": [],
            "_model_module": "@jupyter-widgets/controls",
            "_model_module_version": "1.5.0",
            "_model_name": "HTMLModel",
            "_view_count": null,
            "_view_module": "@jupyter-widgets/controls",
            "_view_module_version": "1.5.0",
            "_view_name": "HTMLView",
            "description": "",
            "description_tooltip": null,
            "layout": "IPY_MODEL_af3faec16cad4f74abe5cbbda89c18a1",
            "placeholder": "​",
            "style": "IPY_MODEL_b832b4f17ec9449597d7ef2839948644",
            "value": " 23410/23410 [04:58&lt;00:00, 43.30 examples/s]"
          }
        },
        "2816305935134548852638ebd8a1b38d": {
          "model_module": "@jupyter-widgets/controls",
          "model_module_version": "1.5.0",
          "model_name": "FloatProgressModel",
          "state": {
            "_dom_classes": [],
            "_model_module": "@jupyter-widgets/controls",
            "_model_module_version": "1.5.0",
            "_model_name": "FloatProgressModel",
            "_view_count": null,
            "_view_module": "@jupyter-widgets/controls",
            "_view_module_version": "1.5.0",
            "_view_name": "ProgressView",
            "bar_style": "success",
            "description": "",
            "description_tooltip": null,
            "layout": "IPY_MODEL_f432bfc6325b45968153b25634d86227",
            "max": 23410,
            "min": 0,
            "orientation": "horizontal",
            "style": "IPY_MODEL_9e9501847d6f447790a93306b80ce24a",
            "value": 23410
          }
        },
        "520f16e99a7d43e7a70bff80edd11e0d": {
          "model_module": "@jupyter-widgets/base",
          "model_module_version": "1.2.0",
          "model_name": "LayoutModel",
          "state": {
            "_model_module": "@jupyter-widgets/base",
            "_model_module_version": "1.2.0",
            "_model_name": "LayoutModel",
            "_view_count": null,
            "_view_module": "@jupyter-widgets/base",
            "_view_module_version": "1.2.0",
            "_view_name": "LayoutView",
            "align_content": null,
            "align_items": null,
            "align_self": null,
            "border": null,
            "bottom": null,
            "display": null,
            "flex": null,
            "flex_flow": null,
            "grid_area": null,
            "grid_auto_columns": null,
            "grid_auto_flow": null,
            "grid_auto_rows": null,
            "grid_column": null,
            "grid_gap": null,
            "grid_row": null,
            "grid_template_areas": null,
            "grid_template_columns": null,
            "grid_template_rows": null,
            "height": null,
            "justify_content": null,
            "justify_items": null,
            "left": null,
            "margin": null,
            "max_height": null,
            "max_width": null,
            "min_height": null,
            "min_width": null,
            "object_fit": null,
            "object_position": null,
            "order": null,
            "overflow": null,
            "overflow_x": null,
            "overflow_y": null,
            "padding": null,
            "right": null,
            "top": null,
            "visibility": null,
            "width": null
          }
        },
        "77384efe58ad439d9d7ff0036524e632": {
          "model_module": "@jupyter-widgets/controls",
          "model_module_version": "1.5.0",
          "model_name": "HBoxModel",
          "state": {
            "_dom_classes": [],
            "_model_module": "@jupyter-widgets/controls",
            "_model_module_version": "1.5.0",
            "_model_name": "HBoxModel",
            "_view_count": null,
            "_view_module": "@jupyter-widgets/controls",
            "_view_module_version": "1.5.0",
            "_view_name": "HBoxView",
            "box_style": "",
            "children": [
              "IPY_MODEL_079e41c73e04463fb737e521b496a877",
              "IPY_MODEL_2816305935134548852638ebd8a1b38d",
              "IPY_MODEL_27ef04a19b0a4f829c3353e52b833ca7"
            ],
            "layout": "IPY_MODEL_ae6202d42f5a47269372a7aea38b599c"
          }
        },
        "9e9501847d6f447790a93306b80ce24a": {
          "model_module": "@jupyter-widgets/controls",
          "model_module_version": "1.5.0",
          "model_name": "ProgressStyleModel",
          "state": {
            "_model_module": "@jupyter-widgets/controls",
            "_model_module_version": "1.5.0",
            "_model_name": "ProgressStyleModel",
            "_view_count": null,
            "_view_module": "@jupyter-widgets/base",
            "_view_module_version": "1.2.0",
            "_view_name": "StyleView",
            "bar_color": null,
            "description_width": ""
          }
        },
        "ae6202d42f5a47269372a7aea38b599c": {
          "model_module": "@jupyter-widgets/base",
          "model_module_version": "1.2.0",
          "model_name": "LayoutModel",
          "state": {
            "_model_module": "@jupyter-widgets/base",
            "_model_module_version": "1.2.0",
            "_model_name": "LayoutModel",
            "_view_count": null,
            "_view_module": "@jupyter-widgets/base",
            "_view_module_version": "1.2.0",
            "_view_name": "LayoutView",
            "align_content": null,
            "align_items": null,
            "align_self": null,
            "border": null,
            "bottom": null,
            "display": null,
            "flex": null,
            "flex_flow": null,
            "grid_area": null,
            "grid_auto_columns": null,
            "grid_auto_flow": null,
            "grid_auto_rows": null,
            "grid_column": null,
            "grid_gap": null,
            "grid_row": null,
            "grid_template_areas": null,
            "grid_template_columns": null,
            "grid_template_rows": null,
            "height": null,
            "justify_content": null,
            "justify_items": null,
            "left": null,
            "margin": null,
            "max_height": null,
            "max_width": null,
            "min_height": null,
            "min_width": null,
            "object_fit": null,
            "object_position": null,
            "order": null,
            "overflow": null,
            "overflow_x": null,
            "overflow_y": null,
            "padding": null,
            "right": null,
            "top": null,
            "visibility": null,
            "width": null
          }
        },
        "af3faec16cad4f74abe5cbbda89c18a1": {
          "model_module": "@jupyter-widgets/base",
          "model_module_version": "1.2.0",
          "model_name": "LayoutModel",
          "state": {
            "_model_module": "@jupyter-widgets/base",
            "_model_module_version": "1.2.0",
            "_model_name": "LayoutModel",
            "_view_count": null,
            "_view_module": "@jupyter-widgets/base",
            "_view_module_version": "1.2.0",
            "_view_name": "LayoutView",
            "align_content": null,
            "align_items": null,
            "align_self": null,
            "border": null,
            "bottom": null,
            "display": null,
            "flex": null,
            "flex_flow": null,
            "grid_area": null,
            "grid_auto_columns": null,
            "grid_auto_flow": null,
            "grid_auto_rows": null,
            "grid_column": null,
            "grid_gap": null,
            "grid_row": null,
            "grid_template_areas": null,
            "grid_template_columns": null,
            "grid_template_rows": null,
            "height": null,
            "justify_content": null,
            "justify_items": null,
            "left": null,
            "margin": null,
            "max_height": null,
            "max_width": null,
            "min_height": null,
            "min_width": null,
            "object_fit": null,
            "object_position": null,
            "order": null,
            "overflow": null,
            "overflow_x": null,
            "overflow_y": null,
            "padding": null,
            "right": null,
            "top": null,
            "visibility": null,
            "width": null
          }
        },
        "b832b4f17ec9449597d7ef2839948644": {
          "model_module": "@jupyter-widgets/controls",
          "model_module_version": "1.5.0",
          "model_name": "DescriptionStyleModel",
          "state": {
            "_model_module": "@jupyter-widgets/controls",
            "_model_module_version": "1.5.0",
            "_model_name": "DescriptionStyleModel",
            "_view_count": null,
            "_view_module": "@jupyter-widgets/base",
            "_view_module_version": "1.2.0",
            "_view_name": "StyleView",
            "description_width": ""
          }
        },
        "f432bfc6325b45968153b25634d86227": {
          "model_module": "@jupyter-widgets/base",
          "model_module_version": "1.2.0",
          "model_name": "LayoutModel",
          "state": {
            "_model_module": "@jupyter-widgets/base",
            "_model_module_version": "1.2.0",
            "_model_name": "LayoutModel",
            "_view_count": null,
            "_view_module": "@jupyter-widgets/base",
            "_view_module_version": "1.2.0",
            "_view_name": "LayoutView",
            "align_content": null,
            "align_items": null,
            "align_self": null,
            "border": null,
            "bottom": null,
            "display": null,
            "flex": null,
            "flex_flow": null,
            "grid_area": null,
            "grid_auto_columns": null,
            "grid_auto_flow": null,
            "grid_auto_rows": null,
            "grid_column": null,
            "grid_gap": null,
            "grid_row": null,
            "grid_template_areas": null,
            "grid_template_columns": null,
            "grid_template_rows": null,
            "height": null,
            "justify_content": null,
            "justify_items": null,
            "left": null,
            "margin": null,
            "max_height": null,
            "max_width": null,
            "min_height": null,
            "min_width": null,
            "object_fit": null,
            "object_position": null,
            "order": null,
            "overflow": null,
            "overflow_x": null,
            "overflow_y": null,
            "padding": null,
            "right": null,
            "top": null,
            "visibility": null,
            "width": null
          }
        }
      }
    }
  },
  "nbformat": 4,
  "nbformat_minor": 0
}
