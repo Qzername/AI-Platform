{
  "cells": [
    {
      "cell_type": "code",
      "execution_count": null,
      "id": "0b51fd8e",
      "metadata": {
        "id": "0b51fd8e"
      },
      "outputs": [],
      "source": [
        "%pip install tensorflow\n",
        "%pip install transformers\n",
        "%pip install datasets\n",
        "%pip install pillow\n",
        "%pip install numpy\n",
        "%pip install matplotlib\n",
        "%pip install datasets"
      ]
    },
    {
      "cell_type": "code",
      "execution_count": null,
      "id": "l_zpMaD7fGyx",
      "metadata": {
        "id": "l_zpMaD7fGyx"
      },
      "outputs": [],
      "source": [
        "import sys\n",
        "\n",
        "IS_COLAB = \"google.colab\" in sys.modules\n",
        "if IS_COLAB:\n",
        "    import os\n",
        "    os.environ[\"TF_USE_LEGACY_KERAS\"] = \"1\"\n",
        "    import tf_keras\n",
        "\n",
        "import tensorflow as tf\n",
        "\n",
        "tf.random.set_seed(42)"
      ]
    },
    {
      "cell_type": "code",
      "execution_count": null,
      "id": "824dc9b3",
      "metadata": {
        "id": "824dc9b3"
      },
      "outputs": [],
      "source": [
        "from datasets import load_dataset\n",
        "\n",
        "DATASET_SIZE = 23298\n",
        "dataset = load_dataset(\"microsoft/cats_vs_dogs\")\n",
        "\n",
        "def to_rgb(example):\n",
        "  if example[\"image\"].mode != \"RGB\":\n",
        "    example[\"image\"] = example[\"image\"].convert(\"RGB\")\n",
        "  return example\n",
        "\n",
        "dataset = load_dataset(\"microsoft/cats_vs_dogs\")\n",
        "dataset = dataset.filter(lambda example: example[\"labels\"] == 0).map(to_rgb)\n",
        "\n",
        "tf_dataset = dataset[\"train\"].to_tf_dataset(\n",
        "  shuffle=True,\n",
        "  batch_size=None\n",
        ")\n",
        "\n",
        "def dict_to_tuple(data):\n",
        "    image = tf.cast(data['image'], tf.float32)\n",
        "    image = (image / 127.5) - 1.0  # map [0,255] → [-1,1]\n",
        "    return image, tf.cast(data['labels'], tf.float32)\n",
        "\n",
        "def resize(image, label):\n",
        "    image = tf.image.resize(image, [48, 64])\n",
        "    return image, label\n",
        "\n",
        "tf_dataset = tf_dataset.map(dict_to_tuple).map(resize)"
      ]
    },
    {
      "cell_type": "code",
      "execution_count": null,
      "id": "6huy7WFKpJZ2",
      "metadata": {
        "id": "6huy7WFKpJZ2"
      },
      "outputs": [],
      "source": [
        "import matplotlib.pyplot as plt\n",
        "\n",
        "def show_image(numpy_image):\n",
        "  plt.imshow(numpy_image)\n",
        "  plt.axis(\"off\")\n",
        "  plt.show()\n",
        "\n",
        "for i, l in tf_dataset.skip(20).take(5):\n",
        "  show_image(((i.numpy()+1)/2))"
      ]
    },
    {
      "cell_type": "code",
      "execution_count": null,
      "id": "7b11457f",
      "metadata": {
        "id": "7b11457f"
      },
      "outputs": [],
      "source": [
        "from tensorflow.keras import layers\n",
        "import math\n",
        "\n",
        "batch_size = 64\n",
        "\n",
        "final_dataset = tf_dataset.shuffle(batch_size).take(batch_size*math.ceil(10000/batch_size)).batch(batch_size).prefetch(1)\n",
        "\n",
        "codings_size = 256\n",
        "\n",
        "generator = tf.keras.Sequential([\n",
        "    layers.Dense(6 * 8 * 512),\n",
        "    layers.Reshape([6, 8, 512]),\n",
        "    layers.BatchNormalization(),\n",
        "    layers.Conv2DTranspose(128, kernel_size=7, strides=2,\n",
        "                                    padding=\"same\", activation=\"relu\"),\n",
        "    layers.BatchNormalization(),\n",
        "    layers.Conv2DTranspose(64, kernel_size=5, strides=2,\n",
        "                                    padding=\"same\", activation=\"relu\"),\n",
        "    layers.BatchNormalization(),\n",
        "    layers.Conv2DTranspose(3, kernel_size=5, strides=2,\n",
        "                                    padding=\"same\", activation=\"tanh\"),\n",
        "])\n",
        "\n",
        "discriminator = tf.keras.Sequential([\n",
        "    layers.Input(shape=(48, 64, 3)),\n",
        "    layers.Conv2D(64, kernel_size=5, strides=2, padding=\"same\",\n",
        "                  activation=layers.LeakyReLU(0.2)),\n",
        "    layers.Dropout(0.3),\n",
        "    layers.Conv2D(128, kernel_size=5, strides=2, padding=\"same\",\n",
        "                  activation=layers.LeakyReLU(0.2)),\n",
        "    layers.Dropout(0.3),\n",
        "    layers.Flatten(),\n",
        "    layers.Dense(256, activation=\"relu\"),\n",
        "    layers.Dense(1, activation=\"sigmoid\")\n",
        "])\n",
        "\n",
        "gan = tf.keras.Sequential([generator, discriminator])\n",
        "\n",
        "# DEV-NOTE\n",
        "# rmsprop seems to give better results to around 50 epochs\n",
        "# i think it is worth a while to test out adam optimizer at 0.002 learning rate\n",
        "# unfortunetly i don't have access to enough resources to validate this theory\n",
        "\n",
        "discriminator.compile(loss=\"binary_crossentropy\", optimizer=\"rmsprop\")\n",
        "discriminator.trainable = False\n",
        "gan.compile(loss=\"binary_crossentropy\", optimizer=\"rmsprop\")"
      ]
    },
    {
      "cell_type": "code",
      "execution_count": null,
      "id": "nG-7Np2QpNRE",
      "metadata": {
        "id": "nG-7Np2QpNRE"
      },
      "outputs": [],
      "source": [
        "import matplotlib.pyplot as plt\n",
        "import tensorflow as tf\n",
        "import time\n",
        "\n",
        "print(time.time())\n",
        "\n",
        "def benchmark_discriminator(take_number=1):\n",
        "  for X_batch, _ in final_dataset.take(take_number):\n",
        "      noise = tf.random.normal(shape=[batch_size, codings_size])\n",
        "      generated_images = generator(noise)\n",
        "\n",
        "      X_fake_and_real = tf.concat([generated_images, X_batch], axis=0)\n",
        "\n",
        "      predictions = discriminator.predict(X_fake_and_real)\n",
        "\n",
        "      print(\"Discriminator predictions on fake images (first 5):\", predictions[:5].flatten())\n",
        "      print(\"Discriminator predictions on real images (first 5):\", predictions[batch_size:batch_size+5].flatten())\n",
        "\n",
        "      n_images_to_show = 5\n",
        "      plt.figure(figsize=(15, 3))\n",
        "      for i in range(n_images_to_show):\n",
        "          plt.subplot(1, n_images_to_show, i+1)\n",
        "          plt.imshow(((generated_images[i].numpy()+1)/2))\n",
        "          plt.axis(\"off\")\n",
        "      plt.show()\n",
        "\n",
        "\n",
        "benchmark_discriminator()"
      ]
    },
    {
      "cell_type": "code",
      "execution_count": null,
      "id": "0af8467b",
      "metadata": {
        "id": "0af8467b"
      },
      "outputs": [],
      "source": [
        "import time\n",
        "\n",
        "print(time.time())\n",
        "\n",
        "epochs = 20\n",
        "\n",
        "# DEV-NOTE\n",
        "# this should be later updated into better learning loop\n",
        "# based on gradient tape\n",
        "\n",
        "# this training loop is heavly inspired by the example in:\n",
        "# https://github.com/ageron/handson-ml3\n",
        "def train_gan(gan, dataset, batch_size, codings_size, n_epochs):\n",
        "    generator, discriminator = gan.layers\n",
        "    print(\"training started.\")\n",
        "    for epoch in range(n_epochs):\n",
        "        start = time.time()\n",
        "        for X_batch, _ in dataset:\n",
        "            # phase 1 - training the discriminator\n",
        "            noise = tf.random.normal(shape=[batch_size, codings_size])\n",
        "            generated_images = generator(noise)\n",
        "            X_fake_and_real = tf.concat([generated_images, X_batch], axis=0)\n",
        "            y1 = tf.constant([[0.1]] * batch_size + [[0.9]] * batch_size)\n",
        "\n",
        "            discriminator.train_on_batch(X_fake_and_real, y1)\n",
        "\n",
        "            # phase 2 - training the generator\n",
        "            noise = tf.random.normal(shape=[batch_size, codings_size])\n",
        "            y2 = tf.constant([[1.]] * batch_size)\n",
        "            gan.train_on_batch(noise, y2)\n",
        "\n",
        "        print(f\"Epoch {epoch + 1}/{n_epochs} - time: {time.time()-start}\")  # extra code\n",
        "        # extra code — plot images during training\n",
        "        benchmark_discriminator()\n",
        "\n",
        "train_gan(gan, final_dataset, batch_size, codings_size, epochs)"
      ]
    },
    {
      "cell_type": "code",
      "execution_count": null,
      "id": "IKvXh2pK-3k6",
      "metadata": {
        "id": "IKvXh2pK-3k6"
      },
      "outputs": [],
      "source": [
        "generator.save(\"generator.gencat.base-mk1.keras\")\n",
        "discriminator.save(\"discriminator.gencat.base-mk1.keras\")"
      ]
    },
    {
      "cell_type": "code",
      "execution_count": null,
      "id": "aubExEQSpYvp",
      "metadata": {
        "id": "aubExEQSpYvp"
      },
      "outputs": [],
      "source": [
        "# loading from keras files\n",
        "\n",
        "generator = tf.keras.models.load_model('generator.catgen.dev-mk1.keras')\n",
        "discriminator = tf.keras.models.load_model('discriminator.catgen.dev-mk1.keras')\n",
        "discriminator.trainable = False\n",
        "\n",
        "gan = tf.keras.Sequential([generator, discriminator])\n",
        "gan.compile(loss=\"binary_crossentropy\", optimizer=\"rmsprop\")"
      ]
    },
    {
      "cell_type": "code",
      "execution_count": null,
      "id": "edb11c28",
      "metadata": {},
      "outputs": [],
      "source": [
        "import pygame\n",
        "\n",
        "pygame.mixer.init()  # Initialize mixer\n",
        "pygame.mixer.music.load(\"finished.mp3\")  # Can be mp3 or wav\n",
        "pygame.mixer.music.play()\n",
        "\n",
        "# Keep script alive until sound finishes\n",
        "while pygame.mixer.music.get_busy():\n",
        "    pygame.time.Clock().tick(10)"
      ]
    }
  ],
  "metadata": {
    "accelerator": "GPU",
    "colab": {
      "gpuType": "T4",
      "provenance": []
    },
    "kernelspec": {
      "display_name": "Python 3",
      "name": "python3"
    },
    "language_info": {
      "codemirror_mode": {
        "name": "ipython",
        "version": 3
      },
      "file_extension": ".py",
      "mimetype": "text/x-python",
      "name": "python",
      "nbconvert_exporter": "python",
      "pygments_lexer": "ipython3",
      "version": "3.11.9"
    }
  },
  "nbformat": 4,
  "nbformat_minor": 5
}
